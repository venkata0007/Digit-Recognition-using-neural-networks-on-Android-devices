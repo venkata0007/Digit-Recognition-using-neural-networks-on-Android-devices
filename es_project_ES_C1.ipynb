{
  "cells": [
    {
      "cell_type": "markdown",
      "metadata": {
        "id": "icSAiPdNuDqV"
      },
      "source": [
        "# MobileNet"
      ]
    },
    {
      "cell_type": "code",
      "execution_count": null,
      "metadata": {
        "colab": {
          "base_uri": "https://localhost:8080/"
        },
        "id": "KZmhPUxzOiwL",
        "outputId": "f1b2a9ab-a9dd-445c-ced7-c8dc4e3eee11"
      },
      "outputs": [
        {
          "output_type": "stream",
          "name": "stdout",
          "text": [
            "Downloading data from https://storage.googleapis.com/tensorflow/tf-keras-datasets/mnist.npz\n",
            "11490434/11490434 [==============================] - 0s 0us/step\n"
          ]
        },
        {
          "output_type": "stream",
          "name": "stderr",
          "text": [
            "WARNING:tensorflow:`input_shape` is undefined or non-square, or `rows` is not in [128, 160, 192, 224]. Weights for input shape (224, 224) will be loaded as the default.\n"
          ]
        },
        {
          "output_type": "stream",
          "name": "stdout",
          "text": [
            "Downloading data from https://storage.googleapis.com/tensorflow/keras-applications/mobilenet/mobilenet_1_0_224_tf_no_top.h5\n",
            "17225924/17225924 [==============================] - 0s 0us/step\n",
            "Epoch 1/10\n",
            "938/938 [==============================] - 239s 251ms/step - loss: 0.2616 - accuracy: 0.9169 - val_loss: 0.1838 - val_accuracy: 0.9420\n",
            "Epoch 2/10\n",
            "938/938 [==============================] - 213s 227ms/step - loss: 0.1424 - accuracy: 0.9539 - val_loss: 0.1500 - val_accuracy: 0.9514\n",
            "Epoch 3/10\n",
            "938/938 [==============================] - 214s 228ms/step - loss: 0.1130 - accuracy: 0.9635 - val_loss: 0.1424 - val_accuracy: 0.9535\n",
            "Epoch 4/10\n",
            "938/938 [==============================] - 201s 214ms/step - loss: 0.0945 - accuracy: 0.9695 - val_loss: 0.1426 - val_accuracy: 0.9551\n",
            "Epoch 5/10\n",
            "938/938 [==============================] - 214s 228ms/step - loss: 0.0793 - accuracy: 0.9744 - val_loss: 0.1376 - val_accuracy: 0.9564\n",
            "Epoch 6/10\n",
            "938/938 [==============================] - 201s 214ms/step - loss: 0.0663 - accuracy: 0.9782 - val_loss: 0.1360 - val_accuracy: 0.9583\n",
            "Epoch 7/10\n",
            "938/938 [==============================] - 214s 228ms/step - loss: 0.0544 - accuracy: 0.9828 - val_loss: 0.1573 - val_accuracy: 0.9526\n",
            "Epoch 8/10\n",
            "938/938 [==============================] - 214s 228ms/step - loss: 0.0450 - accuracy: 0.9854 - val_loss: 0.1511 - val_accuracy: 0.9586\n",
            "Epoch 9/10\n",
            "938/938 [==============================] - 213s 227ms/step - loss: 0.0393 - accuracy: 0.9875 - val_loss: 0.1650 - val_accuracy: 0.9569\n",
            "Epoch 10/10\n",
            "938/938 [==============================] - 210s 223ms/step - loss: 0.0336 - accuracy: 0.9889 - val_loss: 0.1527 - val_accuracy: 0.9596\n",
            "313/313 [==============================] - 31s 97ms/step - loss: 0.1527 - accuracy: 0.9596\n",
            "Test loss: 0.1526685357093811\n",
            "Test accuracy: 0.9595999717712402\n"
          ]
        },
        {
          "output_type": "stream",
          "name": "stderr",
          "text": [
            "WARNING:absl:Found untraced functions such as _jit_compiled_convolution_op, _jit_compiled_convolution_op, _jit_compiled_convolution_op, _jit_compiled_convolution_op, _jit_compiled_convolution_op while saving (showing 5 of 28). These functions will not be directly callable after loading.\n"
          ]
        }
      ],
      "source": [
        "import tensorflow as tf\n",
        "from tensorflow.keras.datasets import mnist\n",
        "from tensorflow.keras.applications.mobilenet import MobileNet, preprocess_input\n",
        "from tensorflow.keras.layers import Dense, GlobalAveragePooling2D\n",
        "from tensorflow.keras.models import Model\n",
        "from tensorflow.keras.utils import to_categorical\n",
        "\n",
        "# Load the MNIST dataset\n",
        "(x_train, y_train), (x_test, y_test) = mnist.load_data()\n",
        "\n",
        "# Convert the images to 3 channels\n",
        "x_train = tf.repeat(x_train[..., tf.newaxis], 3, axis=-1)\n",
        "x_test = tf.repeat(x_test[..., tf.newaxis], 3, axis=-1)\n",
        "\n",
        "# Resize the images to 32x32\n",
        "x_train = tf.image.resize(x_train, (32, 32))\n",
        "x_test = tf.image.resize(x_test, (32, 32))\n",
        "\n",
        "# Preprocess the data\n",
        "x_train = preprocess_input(x_train.numpy().astype('float32'))\n",
        "x_test = preprocess_input(x_test.numpy().astype('float32'))\n",
        "y_train = to_categorical(y_train)\n",
        "y_test = to_categorical(y_test)\n",
        "\n",
        "# Load the MobileNet model without the top layers\n",
        "base_model = MobileNet(weights='imagenet', include_top=False, input_shape=(32, 32, 3))\n",
        "\n",
        "# Add the top layers for classification\n",
        "x = GlobalAveragePooling2D()(base_model.output)\n",
        "x = Dense(128, activation='relu')(x)\n",
        "predictions = Dense(10, activation='softmax')(x)\n",
        "\n",
        "# Define the full  pre trained model \n",
        "model_mobilenet = Model(inputs=base_model.input, outputs=predictions)\n",
        "\n",
        "# Freeze the pre-trained layers\n",
        "for layer in base_model.layers:\n",
        "    layer.trainable = False\n",
        "    \n",
        "model_mobilenet.compile(optimizer='adam', loss='categorical_crossentropy', metrics=['accuracy'])\n",
        "\n",
        "# Train the model\n",
        "model_mobilenet.fit(x_train, y_train, batch_size=32, epochs=10, validation_data=(x_test, y_test))\n",
        "score = model_mobilenet.evaluate(x_test, y_test)\n",
        "print('Test loss:', score[0])\n",
        "print('Test accuracy:', score[1])\n",
        "\n",
        "# Convert the model to TFLite format\n",
        "converter = tf.lite.TFLiteConverter.from_keras_model(model_mobilenet)\n",
        "tflite_model = converter.convert()\n",
        "\n",
        "# Save the TFLite model to file\n",
        "with open('model_mobilenet.tflite', 'wb') as f:\n",
        "    f.write(tflite_model)\n"
      ]
    },
    {
      "cell_type": "code",
      "source": [
        "model_mobilenet.summary()"
      ],
      "metadata": {
        "id": "F4cLtyfJebfO"
      },
      "execution_count": null,
      "outputs": []
    },
    {
      "cell_type": "code",
      "source": [
        "import os\n",
        "# Save the Keras model\n",
        "model_mobilenet.save('model_mobilenet.h5')\n",
        "\n",
        "model_size = os.path.getsize('model_mobilenet.h5')\n",
        "print(f\"Model size(MOBILENET): {model_size / (1024 * 1024):.2f} MB\")\n",
        "tflite_file = 'model_mobilenet.tflite'\n",
        "size_in_bytes = os.path.getsize(tflite_file)\n",
        "size_in_mb = size_in_bytes / (1024 * 1024)\n",
        "print(f\"Size of TFLite model(MOBILENET): {size_in_mb:.2f} MB\")"
      ],
      "metadata": {
        "colab": {
          "base_uri": "https://localhost:8080/"
        },
        "id": "PKTi_xaRftNN",
        "outputId": "602abcff-a946-45d2-9caf-9342cd4d9976"
      },
      "execution_count": null,
      "outputs": [
        {
          "output_type": "stream",
          "name": "stdout",
          "text": [
            "Model size(MOBILENET): 14.09 MB\n",
            "Size of TFLite model(MOBILENET): 12.71 MB\n"
          ]
        }
      ]
    },
    {
      "cell_type": "code",
      "source": [
        "import os"
      ],
      "metadata": {
        "colab": {
          "base_uri": "https://localhost:8080/"
        },
        "id": "TTXjyLX1f9j3",
        "outputId": "fc9b8fd8-48e4-455f-8075-e22425ad1a03"
      },
      "execution_count": null,
      "outputs": [
        {
          "output_type": "stream",
          "name": "stdout",
          "text": [
            "Size of TFLite model(MOBILENET): 12.71 MB\n"
          ]
        }
      ]
    },
    {
      "cell_type": "code",
      "source": [
        "model_mobilenet.save('/content/mobilenet.pb')"
      ],
      "metadata": {
        "colab": {
          "base_uri": "https://localhost:8080/"
        },
        "id": "kjyA1SX1Z4Kn",
        "outputId": "3c12ac53-a025-4dd9-ec56-108c379efeb4"
      },
      "execution_count": null,
      "outputs": [
        {
          "output_type": "stream",
          "name": "stderr",
          "text": [
            "WARNING:absl:Found untraced functions such as _jit_compiled_convolution_op, _jit_compiled_convolution_op, _jit_compiled_convolution_op, _jit_compiled_convolution_op, _jit_compiled_convolution_op while saving (showing 5 of 27). These functions will not be directly callable after loading.\n"
          ]
        }
      ]
    },
    {
      "cell_type": "code",
      "source": [
        "import os\n",
        "model_size_mobilenet = os.path.getsize('/content/mobilenet.pb/saved_model.pb')\n",
        "print(\"Model size(MOBILENET): {:.2f} MB\".format(model_size_mobilenet / (1024 * 1024)))"
      ],
      "metadata": {
        "colab": {
          "base_uri": "https://localhost:8080/"
        },
        "id": "kOKvuPowcJ8H",
        "outputId": "8c8c18b6-0d7c-4822-dc19-720ca2e2a0df"
      },
      "execution_count": null,
      "outputs": [
        {
          "output_type": "stream",
          "name": "stdout",
          "text": [
            "Model size(MOBILENET): 1.45 MB\n"
          ]
        }
      ]
    },
    {
      "cell_type": "code",
      "execution_count": null,
      "metadata": {
        "colab": {
          "base_uri": "https://localhost:8080/",
          "height": 464
        },
        "id": "lHe6zsfuOrjQ",
        "outputId": "32878fcf-6db5-491d-aeed-ad7ad997bc24"
      },
      "outputs": [
        {
          "name": "stdout",
          "output_type": "stream",
          "text": [
            "313/313 [==============================] - 7s 21ms/step\n"
          ]
        },
        {
          "data": {
            "image/png": "[encoded data removed]",
            "text/plain": [
              "<Figure size 1000x500 with 10 Axes>"
            ]
          },
          "metadata": {},
          "output_type": "display_data"
        }
      ],
      "source": [
        "import numpy as np\n",
        "import matplotlib.pyplot as plt\n",
        "\n",
        "x_test_norm = (x_test - x_test.min()) / (x_test.max() - x_test.min())\n",
        "y_pred = model_mobilenet.predict(x_test)\n",
        "y_test_orig = np.argmax(y_test, axis=1)\n",
        "\n",
        "# Show the first 10 images from the test set\n",
        "fig, axes = plt.subplots(2, 5, figsize=(10, 5))\n",
        "axes = axes.flatten()\n",
        "for i in range(10):\n",
        "    img = x_test_norm[i]\n",
        "    label = y_test_orig[i]\n",
        "    pred_label = np.argmax(y_pred[i])\n",
        "    axes[i].imshow(img, cmap='gray')\n",
        "    axes[i].set_title(f\"Label: {label}\\nPrediction: {pred_label}\")\n",
        "plt.show()\n"
      ]
    },
    {
      "cell_type": "markdown",
      "metadata": {
        "id": "CZu7KB8HuZin"
      },
      "source": [
        "# VGG16"
      ]
    },
    {
      "cell_type": "code",
      "execution_count": null,
      "metadata": {
        "id": "RoubgZnw0QQE"
      },
      "outputs": [],
      "source": []
    },
    {
      "cell_type": "code",
      "execution_count": null,
      "metadata": {
        "colab": {
          "base_uri": "https://localhost:8080/"
        },
        "id": "vqnfVIYlemNE",
        "outputId": "cef5d174-d48f-4e0d-a570-6ada7573c3f6"
      },
      "outputs": [
        {
          "output_type": "stream",
          "name": "stdout",
          "text": [
            "Downloading data from https://storage.googleapis.com/tensorflow/keras-applications/vgg16/vgg16_weights_tf_dim_ordering_tf_kernels_notop.h5\n",
            "58889256/58889256 [==============================] - 4s 0us/step\n",
            "Epoch 1/10\n",
            "1875/1875 [==============================] - 22s 11ms/step - loss: 0.5068 - accuracy: 0.8802 - val_loss: 0.3500 - val_accuracy: 0.8958\n",
            "Epoch 2/10\n",
            "1875/1875 [==============================] - 18s 9ms/step - loss: 0.2410 - accuracy: 0.9252 - val_loss: 0.2198 - val_accuracy: 0.9320\n",
            "Epoch 3/10\n",
            "1875/1875 [==============================] - 17s 9ms/step - loss: 0.1975 - accuracy: 0.9372 - val_loss: 0.1775 - val_accuracy: 0.9444\n",
            "Epoch 4/10\n",
            "1875/1875 [==============================] - 18s 9ms/step - loss: 0.1735 - accuracy: 0.9439 - val_loss: 0.1682 - val_accuracy: 0.9447\n",
            "Epoch 5/10\n",
            "1875/1875 [==============================] - 17s 9ms/step - loss: 0.1571 - accuracy: 0.9491 - val_loss: 0.1650 - val_accuracy: 0.9481\n",
            "Epoch 6/10\n",
            "1875/1875 [==============================] - 17s 9ms/step - loss: 0.1455 - accuracy: 0.9522 - val_loss: 0.1687 - val_accuracy: 0.9459\n",
            "Epoch 7/10\n",
            "1875/1875 [==============================] - 17s 9ms/step - loss: 0.1351 - accuracy: 0.9556 - val_loss: 0.1455 - val_accuracy: 0.9529\n",
            "Epoch 8/10\n",
            "1875/1875 [==============================] - 17s 9ms/step - loss: 0.1273 - accuracy: 0.9575 - val_loss: 0.1698 - val_accuracy: 0.9470\n",
            "Epoch 9/10\n",
            "1875/1875 [==============================] - 17s 9ms/step - loss: 0.1218 - accuracy: 0.9598 - val_loss: 0.1513 - val_accuracy: 0.9537\n",
            "Epoch 10/10\n",
            "1875/1875 [==============================] - 17s 9ms/step - loss: 0.1167 - accuracy: 0.9608 - val_loss: 0.1529 - val_accuracy: 0.9528\n",
            "313/313 [==============================] - 3s 9ms/step - loss: 0.1529 - accuracy: 0.9528\n",
            "Test loss: 0.1528916209936142\n",
            "Test accuracy: 0.9527999758720398\n"
          ]
        },
        {
          "output_type": "stream",
          "name": "stderr",
          "text": [
            "WARNING:absl:Found untraced functions such as _jit_compiled_convolution_op, _jit_compiled_convolution_op, _jit_compiled_convolution_op, _jit_compiled_convolution_op, _jit_compiled_convolution_op while saving (showing 5 of 13). These functions will not be directly callable after loading.\n"
          ]
        }
      ],
      "source": [
        "import tensorflow as tf\n",
        "from tensorflow.keras.datasets import mnist\n",
        "from tensorflow.keras.applications.vgg16 import VGG16, preprocess_input\n",
        "from tensorflow.keras.layers import Dense, GlobalAveragePooling2D\n",
        "from tensorflow.keras.models import Model\n",
        "from tensorflow.keras.utils import to_categorical\n",
        "\n",
        "# Load the MNIST dataset\n",
        "(x_train, y_train), (x_test, y_test) = mnist.load_data()\n",
        "\n",
        "# Convert the images to 3 channels\n",
        "x_train = tf.repeat(x_train[..., tf.newaxis], 3, axis=-1)\n",
        "x_test = tf.repeat(x_test[..., tf.newaxis], 3, axis=-1)\n",
        "\n",
        "# Resize the images to 32x32 to match the input size of VGG16\n",
        "x_train = tf.image.resize(x_train, (32, 32))\n",
        "x_test = tf.image.resize(x_test, (32, 32))\n",
        "\n",
        "# Preprocess the data\n",
        "x_train = preprocess_input(x_train)\n",
        "x_test = preprocess_input(x_test)\n",
        "y_train = to_categorical(y_train)\n",
        "y_test = to_categorical(y_test)\n",
        "\n",
        "# Load the VGG16 model without the top layers\n",
        "base_model = VGG16(weights='imagenet', include_top=False, input_shape=(32, 32, 3))\n",
        "\n",
        "# Add the top layers for classification\n",
        "x = GlobalAveragePooling2D()(base_model.output)\n",
        "x = Dense(128, activation='relu')(x)\n",
        "predictions = Dense(10, activation='softmax')(x)\n",
        "\n",
        "# Define the full model\n",
        "model_vgg16 = Model(inputs=base_model.input, outputs=predictions)\n",
        "\n",
        "# Freeze the pre-trained layers\n",
        "for layer in base_model.layers:\n",
        "    layer.trainable = False\n",
        "\n",
        "# Compile the model\n",
        "model_vgg16.compile(optimizer='adam', loss='categorical_crossentropy', metrics=['accuracy'])\n",
        "\n",
        "# Train the model\n",
        "model_vgg16.fit(x_train, y_train, batch_size=32, epochs=10, validation_data=(x_test, y_test))\n",
        "\n",
        "# Evaluate the model\n",
        "score = model_vgg16.evaluate(x_test, y_test)\n",
        "print('Test loss:', score[0])\n",
        "print('Test accuracy:', score[1])\n",
        "\n",
        "# Convert the model to TFLite format\n",
        "converter = tf.lite.TFLiteConverter.from_keras_model(model_vgg16)\n",
        "tflite_model = converter.convert()\n",
        "\n",
        "# Save the TFLite model to file\n",
        "with open('vgg16.tflite', 'wb') as f:\n",
        "    f.write(tflite_model)\n"
      ]
    },
    {
      "cell_type": "code",
      "source": [
        "import os\n",
        "# Save the Keras model\n",
        "model_mobilenet.save('model_mobilenet.h5')\n",
        "\n",
        "model_vgg16.save('model_vgg16.h5')\n",
        "\n",
        "model_size = os.path.getsize('model_vgg16.h5')\n",
        "print(f\"Model size(VGG16): {model_size / (1024 * 1024):.2f} MB\")\n",
        "\n",
        "tflite_file = 'vgg16.tflite'\n",
        "size_in_bytes = os.path.getsize(tflite_file)\n",
        "size_in_mb = size_in_bytes / (1024 * 1024)\n",
        "print(f\"Size of TFLite model(vgg16): {size_in_mb:.2f} MB\")"
      ],
      "metadata": {
        "id": "hlaxjpQ7kV71",
        "colab": {
          "base_uri": "https://localhost:8080/"
        },
        "outputId": "995b154a-80c4-414f-ab87-ab3478700d60"
      },
      "execution_count": null,
      "outputs": [
        {
          "output_type": "stream",
          "name": "stdout",
          "text": [
            "Model size(VGG16): 56.98 MB\n",
            "Size of TFLite model(vgg16): 56.40 MB\n"
          ]
        }
      ]
    },
    {
      "cell_type": "code",
      "source": [
        "import numpy as np\n",
        "from PIL import Image\n",
        "\n",
        "def preprocess_png(image_path, intensity=1.5):\n",
        "    # Load the image and convert to grayscale\n",
        "    img = Image.open(image_path).convert('L')\n",
        "    \n",
        "    # Invert the pixel values (black to white and white to black)\n",
        "    img = ImageOps.invert(img)\n",
        "    img = ImageEnhance.Brightness(img).enhance(intensity)\n",
        "    img = img.resize((32, 32))\n",
        "    img_arr = np.array(img)\n",
        "    img_arr = np.stack((img_arr,) * 3, axis=-1)\n",
        "    \n",
        "    # # Subtract the ImageNet mean values from each channel\n",
        "    # img_arr[:, :, 0] -= 0.485\n",
        "    # img_arr[:, :, 1] -= 0.456\n",
        "    # img_arr[:, :, 2] -= 0.406\n",
        "    \n",
        "    # # Divide each channel by the ImageNet standard deviation values\n",
        "    # img_arr[:, :, 0] /= 0.229\n",
        "    # img_arr[:, :, 1] /= 0.224\n",
        "    # img_arr[:, :, 2] /= 0.225\n",
        "    return img_arr\n"
      ],
      "metadata": {
        "id": "dDBM63OIrAma"
      },
      "execution_count": null,
      "outputs": []
    },
    {
      "cell_type": "code",
      "source": [
        "import numpy as np\n",
        "import matplotlib.pyplot as plt\n",
        "from PIL import Image, ImageOps\n",
        "\n",
        "from PIL import Image, ImageEnhance\n",
        "# Load the sample images\n",
        "img1 = Image.open('number=1.jpg').convert('L')\n",
        "img2 = Image.open('number=2.jpg').convert('L')\n",
        "img3 = Image.open('number=9.jpg').convert('L')\n",
        "img4 = Image.open('number=10.jpg').convert('L')\n",
        "\n",
        "# Convert the images to numpy arrays and repeat grayscale channel three times to create RGB images\n",
        "img1 = np.stack((np.array(img1),)*3, axis=-1)\n",
        "img2 = np.stack((np.array(img2),)*3, axis=-1)\n",
        "img3 = np.stack((np.array(img3),)*3, axis=-1)\n",
        "img4 = np.stack((np.array(img4),)*3, axis=-1)\n",
        "\n",
        "# Preprocess the images\n",
        "img1 = tf.image.resize(img1, (32, 32))\n",
        "img2 = tf.image.resize(img2, (32, 32))\n",
        "img3 = tf.image.resize(img3, (32, 32))\n",
        "img4 = tf.image.resize(img4, (32, 32))\n",
        "\n",
        "img1 = preprocess_png(\"/content/number=1.jpg\")\n",
        "img2 = preprocess_png(\"/content/number=2.jpg\")\n",
        "img3 = preprocess_png(\"/content/number=9.jpg\")\n",
        "img4 = preprocess_png(\"/content/number=10.jpg\")\n",
        "\n",
        "# Predict the classes\n",
        "pred1 = model_vgg16.predict(np.array([img1]))\n",
        "pred2 = model_vgg16.predict(np.array([img2]))\n",
        "pred3 = model_vgg16.predict(np.array([img3]))\n",
        "pred4 = model_vgg16.predict(np.array([img4]))\n",
        "\n",
        "# Get the predicted labels\n",
        "label1 = np.argmax(pred1)\n",
        "label2 = np.argmax(pred2)\n",
        "label3 = np.argmax(pred3)\n",
        "label4 = np.argmax(pred4)\n",
        "\n",
        "# Show the images with predicted labels as titles\n",
        "fig, axes = plt.subplots(2, 2, figsize=(8, 8))\n",
        "axes[0, 0].imshow(img1)\n",
        "axes[0, 0].set_title(f\"Prediction: {label1}\")\n",
        "axes[0, 1].imshow(img2)\n",
        "axes[0, 1].set_title(f\"Prediction: {label2}\")\n",
        "axes[1, 0].imshow(img3)\n",
        "axes[1, 0].set_title(f\"Prediction: {label3}\")\n",
        "axes[1, 1].imshow(img4)\n",
        "axes[1, 1].set_title(f\"Prediction: {label4}\")\n",
        "plt.show()\n"
      ],
      "metadata": {
        "id": "UQyUeIS7krt4",
        "colab": {
          "base_uri": "https://localhost:8080/",
          "height": 772
        },
        "outputId": "ae05bab0-b9a4-44cf-baca-352a9e96cea8"
      },
      "execution_count": null,
      "outputs": [
        {
          "output_type": "stream",
          "name": "stdout",
          "text": [
            "1/1 [==============================] - 0s 20ms/step\n",
            "1/1 [==============================] - 0s 22ms/step\n",
            "1/1 [==============================] - 0s 19ms/step\n",
            "1/1 [==============================] - 0s 21ms/step\n"
          ]
        },
        {
          "output_type": "display_data",
          "data": {
            "text/plain": [
              "<Figure size 800x800 with 4 Axes>"
            ],
            "image/png": "[encoded data removed]"
          },
          "metadata": {}
        }
      ]
    },
    {
      "cell_type": "markdown",
      "source": [
        "# PYTORCH_IMPLEMENTATION"
      ],
      "metadata": {
        "id": "c5P6sV6vHuMM"
      }
    },
    {
      "cell_type": "code",
      "source": [
        "import torch\n",
        "import torchvision\n",
        "import numpy as np\n",
        "import matplotlib.pyplot as plt\n",
        "import torch.nn as nn\n",
        "import torch.nn.functional as F\n",
        "from torchvision import datasets,transforms,utils\n",
        "from torch.utils.data.dataloader import DataLoader\n",
        "from torch.utils.data import random_split\n",
        "from tqdm.notebook import tqdm as tqdm\n",
        "import seaborn as sns\n",
        "import torch.nn.init as init\n",
        "sns.set_theme()"
      ],
      "metadata": {
        "id": "RUX5XRa9H4EQ"
      },
      "execution_count": null,
      "outputs": []
    },
    {
      "cell_type": "code",
      "source": [
        "image_transformer = transforms.Compose([transforms.ToTensor(),\n",
        "                                        transforms.GaussianBlur(kernel_size=(3,3))])\n",
        "train_data = datasets.MNIST(root='data/', download=True, transform = image_transformer)\n",
        "test_data = datasets.MNIST(root='data/', train=False, transform=transforms.ToTensor())"
      ],
      "metadata": {
        "colab": {
          "base_uri": "https://localhost:8080/"
        },
        "id": "9DzU93SgH0HV",
        "outputId": "1cade00a-223d-47f7-f0a4-6df2e1488aaa"
      },
      "execution_count": null,
      "outputs": [
        {
          "output_type": "stream",
          "name": "stdout",
          "text": [
            "Downloading http://yann.lecun.com/exdb/mnist/train-images-idx3-ubyte.gz\n",
            "Downloading http://yann.lecun.com/exdb/mnist/train-images-idx3-ubyte.gz to data/MNIST/raw/train-images-idx3-ubyte.gz\n"
          ]
        },
        {
          "output_type": "stream",
          "name": "stderr",
          "text": [
            "100%|██████████| 9912422/9912422 [00:00<00:00, 153804676.93it/s]"
          ]
        },
        {
          "output_type": "stream",
          "name": "stdout",
          "text": [
            "Extracting data/MNIST/raw/train-images-idx3-ubyte.gz to data/MNIST/raw\n"
          ]
        },
        {
          "output_type": "stream",
          "name": "stderr",
          "text": [
            "\n"
          ]
        },
        {
          "output_type": "stream",
          "name": "stdout",
          "text": [
            "\n",
            "Downloading http://yann.lecun.com/exdb/mnist/train-labels-idx1-ubyte.gz\n",
            "Downloading http://yann.lecun.com/exdb/mnist/train-labels-idx1-ubyte.gz to data/MNIST/raw/train-labels-idx1-ubyte.gz\n"
          ]
        },
        {
          "output_type": "stream",
          "name": "stderr",
          "text": [
            "100%|██████████| 28881/28881 [00:00<00:00, 98644701.81it/s]\n"
          ]
        },
        {
          "output_type": "stream",
          "name": "stdout",
          "text": [
            "Extracting data/MNIST/raw/train-labels-idx1-ubyte.gz to data/MNIST/raw\n",
            "\n",
            "Downloading http://yann.lecun.com/exdb/mnist/t10k-images-idx3-ubyte.gz\n",
            "Downloading http://yann.lecun.com/exdb/mnist/t10k-images-idx3-ubyte.gz to data/MNIST/raw/t10k-images-idx3-ubyte.gz\n"
          ]
        },
        {
          "output_type": "stream",
          "name": "stderr",
          "text": [
            "100%|██████████| 1648877/1648877 [00:00<00:00, 59065252.90it/s]"
          ]
        },
        {
          "output_type": "stream",
          "name": "stdout",
          "text": [
            "Extracting data/MNIST/raw/t10k-images-idx3-ubyte.gz to data/MNIST/raw\n"
          ]
        },
        {
          "output_type": "stream",
          "name": "stderr",
          "text": [
            "\n"
          ]
        },
        {
          "output_type": "stream",
          "name": "stdout",
          "text": [
            "\n",
            "Downloading http://yann.lecun.com/exdb/mnist/t10k-labels-idx1-ubyte.gz\n",
            "Downloading http://yann.lecun.com/exdb/mnist/t10k-labels-idx1-ubyte.gz to data/MNIST/raw/t10k-labels-idx1-ubyte.gz\n"
          ]
        },
        {
          "output_type": "stream",
          "name": "stderr",
          "text": [
            "100%|██████████| 4542/4542 [00:00<00:00, 19579166.26it/s]\n"
          ]
        },
        {
          "output_type": "stream",
          "name": "stdout",
          "text": [
            "Extracting data/MNIST/raw/t10k-labels-idx1-ubyte.gz to data/MNIST/raw\n",
            "\n"
          ]
        }
      ]
    },
    {
      "cell_type": "code",
      "source": [
        "import matplotlib.pyplot as plt\n",
        "\n",
        "train_data = datasets.MNIST(root='data/', download=True, transform=image_transformer)\n",
        "test_data = datasets.MNIST(root='data/', train=False, transform=transforms.ToTensor())\n",
        "\n",
        "# Display a few sample images from the train set\n",
        "fig, axs = plt.subplots(1, 5, figsize=(15, 3))\n",
        "for i in range(5):\n",
        "    axs[i].imshow(train_data[i][0][0], cmap='gray')\n",
        "    axs[i].set_title(train_data[i][1])\n",
        "\n",
        "# Display a few sample images from the test set\n",
        "fig, axs = plt.subplots(1, 5, figsize=(15, 3))\n",
        "for i in range(5):\n",
        "    axs[i].imshow(test_data[i][0][0], cmap='gray')\n",
        "    axs[i].set_title(test_data[i][1])\n",
        "\n",
        "plt.show()\n"
      ],
      "metadata": {
        "colab": {
          "base_uri": "https://localhost:8080/",
          "height": 399
        },
        "id": "Sp0sYkUSIGFd",
        "outputId": "95d0d3bb-dd40-4871-99ef-e96157f733fc"
      },
      "execution_count": null,
      "outputs": [
        {
          "output_type": "display_data",
          "data": {
            "text/plain": [
              "<Figure size 1500x300 with 5 Axes>"
            ],
            "image/png": "[encoded data removed]"
          },
          "metadata": {}
        },
        {
          "output_type": "display_data",
          "data": {
            "text/plain": [
              "<Figure size 1500x300 with 5 Axes>"
            ],
            "image/png": "[encoded data removed]"
          },
          "metadata": {}
        }
      ]
    },
    {
      "cell_type": "code",
      "source": [
        "torch.manual_seed(43)\n",
        "\n",
        "val_size = int(0.2*len(train_data))\n",
        "train_size = len(train_data) - val_size\n",
        "\n",
        "# splitting data for training and validation\n",
        "train_data, val_data = random_split(train_data, [train_size, val_size])\n",
        "len(train_data), len(val_data)"
      ],
      "metadata": {
        "colab": {
          "base_uri": "https://localhost:8080/"
        },
        "id": "BV1C-CNFJkCp",
        "outputId": "2d06fe96-f168-4199-8222-eff9e3c6311a"
      },
      "execution_count": null,
      "outputs": [
        {
          "output_type": "execute_result",
          "data": {
            "text/plain": [
              "(48000, 12000)"
            ]
          },
          "metadata": {},
          "execution_count": 4
        }
      ]
    },
    {
      "cell_type": "code",
      "source": [
        "# 128 images in each batch\n",
        "batch_size = 128\n",
        "\n",
        "train_loader = DataLoader(train_data, batch_size, shuffle=True, num_workers=1, pin_memory=True)\n",
        "val_loader = DataLoader(val_data, batch_size, num_workers=2, pin_memory=True)\n",
        "test_loader = DataLoader(test_data, batch_size, num_workers=2, pin_memory=True)"
      ],
      "metadata": {
        "id": "77TYGBNIJuxN"
      },
      "execution_count": null,
      "outputs": []
    },
    {
      "cell_type": "code",
      "source": [
        "# funciton to evaluate the model \n",
        "def evaluate_CNN(model, testloader,batch_size=128):\n",
        "    with torch.no_grad():\n",
        "        val_loss, val_acc = 0.0, 0.0\n",
        "        for val_batch in testloader:\n",
        "            imgs, targets = val_batch\n",
        "            imgs, targets = imgs.to(device), targets.to(device).long()\n",
        "            val_outputs = model(imgs)\n",
        "            val_loss += torch.nn.functional.cross_entropy(val_outputs, targets).item()\n",
        "            val_preds = torch.argmax(val_outputs, dim=1)\n",
        "            val_acc += torch.sum(val_preds == targets)\n",
        "    val_acc = float(float(val_acc) / float(len(testloader)*float(batch_size)))\n",
        "    return val_acc"
      ],
      "metadata": {
        "id": "T89dXRogKCT8"
      },
      "execution_count": null,
      "outputs": []
    },
    {
      "cell_type": "code",
      "source": [
        "# function to train the Neural network\n",
        "def train_CNN(model,optimizer,train_loader,val_loader,epochs):\n",
        "  acc_vals = []\n",
        "  for epoch in range(epochs):\n",
        "    train_loss, train_acc = 0, 0\n",
        "    print(\"\\nEpoch: \", str(epoch+1), \"/\", str(epochs))\n",
        "\n",
        "    with tqdm(total=len(train_loader)) as pbar:\n",
        "        model.train()\n",
        "        for idx, batch in enumerate(train_loader):\n",
        "        \n",
        "            images, labels = batch\n",
        "            images, labels = images.to(device), labels.to(device).long()\n",
        "            \n",
        "            # forward propagation\n",
        "            preds = model(images)\n",
        "            loss = torch.nn.functional.cross_entropy(preds, labels)\n",
        "            optimizer.zero_grad()\n",
        "            \n",
        "            # backward propagation\n",
        "            loss.backward()\n",
        "            optimizer.step()\n",
        "\n",
        "            train_loss += loss.item()\n",
        "            acc = torch.sum(torch.argmax(preds, dim=1) == labels)\n",
        "            train_acc += acc\n",
        "            pbar.set_postfix(Loss='{0:.4f}'.format(loss.item()),\n",
        "                             Accuracy='{0:.4f}'.format(float(train_acc.item()/(float(batch_size)*(idx+1)))))\n",
        "            pbar.update(1)\n",
        "            \n",
        "        # calculating train and validation accuracies\n",
        "        model.eval()\n",
        "        val_acc = evaluate_CNN(model, val_loader)\n",
        "        train_acc = round(float(float(train_acc)/float(len(train_loader)*float(batch_size))), 4)\n",
        "        acc_vals.append(train_acc)\n",
        "        print(\"train_acc:\", train_acc, \" val_acc:\", round(val_acc, 4))\n",
        "  return acc_vals"
      ],
      "metadata": {
        "id": "_2E4lBL1KG00"
      },
      "execution_count": null,
      "outputs": []
    },
    {
      "cell_type": "code",
      "source": [
        "device = 'cuda:0' if torch.cuda.is_available() else 'cpu'"
      ],
      "metadata": {
        "id": "Dap7vRDtKtb6"
      },
      "execution_count": null,
      "outputs": []
    },
    {
      "cell_type": "code",
      "source": [
        "import torch.optim as optim\n",
        "from torchvision.models import mobilenet_v2\n",
        "# Load the MobileNet model pre-trained on ImageNet\n",
        "model1 = mobilenet_v2(pretrained=True)\n",
        "\n",
        "# Modify the input and output layers of the model to match the MNIST dataset\n",
        "model1.features[0][0] = nn.Conv2d(1, 32, kernel_size=(3, 3), stride=(2, 2), padding=(1, 1), bias=False)\n",
        "model1.classifier[1] = nn.Linear(1280, 10)\n",
        "\n",
        "# Move the model to the device\n",
        "model1.to(device)\n",
        "\n",
        "optimizer = optim.SGD(model1.parameters(), lr=0.001, momentum=0.9)\n",
        "\n",
        "acc_vals1 = train_CNN(model1,optimizer,train_loader,val_loader,epochs = 5)"
      ],
      "metadata": {
        "colab": {
          "base_uri": "https://localhost:8080/",
          "height": 561,
          "referenced_widgets": [
            "889e3e841cbf4a7a86fdcbf26a75419a",
            "35af6ba635df485a9bfa32b54e0b9ba4",
            "1fa8ca5c78d049858bffd8f3b2e6c32b",
            "d48631acdd624575b90ac7d811009ad6",
            "2078e364aeb0477dbf1366fb82c2f3e5",
            "8c2ff34366a249078bb344d11b80ffc3",
            "419d0648efa04ad0b330a77436a18d6a",
            "5a218027903d4d16a998ee90c7b668bb",
            "7a50705166db41d5a6b7e26853621f8d",
            "3bf699ba20aa497c9fdc41319622c9bd",
            "cf39bcf45fd24c8599c933f607fb2fe6",
            "aecff84bd3534a6d88fdc0775b77c374",
            "7fe9e21ed6be4297b180af7dec71bd51",
            "7333e483b0234863a58ae20cbbe764b2",
            "24295305da70480d81b8f597caed0816",
            "6f43b3486efc4cd3bba32bbcdb8272b2",
            "b73af11bfffb45068313396a88dafc13",
            "f082fdd1b80c4de29a3cb9dfb1273d24",
            "bae1291f66b3489ab92e18164454767b",
            "5700683df7dc4c90a4dafc9046fe6c78",
            "87e863851e754e51838fc9eb823b01ef",
            "db8ed982c8944700a1a67ec914610240",
            "5bc383fd06134a399b08ac4cf0f2470e",
            "994049a73cc443e3bc66d2862f943b20",
            "2914dda9691e4dbda4707c81d2431dc6",
            "3af563d37eac4f038a35ccc09dedbfe0",
            "cda7687157e246a3938eebb4b5571d06",
            "d3c4aaf56d2841b5a0d8b132eaae0cd1",
            "48c9806c18f7443b93a23f817dda3b5d",
            "b6babda7963144b18cb08541596f1e26",
            "f07d84fb912e4af9b6f7ef15ceb8e6eb",
            "3606baa6f44d4d5587213b8af28f4ed7",
            "7ffe8ce9312d481da6ae6ae7544b5b21",
            "62c760cd8156453c991f209b85efccb0",
            "b44e8bc429d84b0db5d95ebac932733f",
            "e94892c27a674ffb9d2ac2b1ef9bb2c0",
            "7e3c6e779365415f9cca62d8bec1ec9d",
            "0e56aa33de5b433c822f03d1174eae45",
            "2371a8df9039468c89f5ea61e33fe5f3",
            "634b0024eb964b558b6d6b860ee5231d",
            "0242336b1b644c3a89cb05b8fb42fa2d",
            "1354a113cb6c4cae8216a301ed096c12",
            "f7cbf6431a9347cb887ac0d7243a455d",
            "2fd5005d86eb4ba28c531e8fbc93e371",
            "1e5c187f269d4cf1bc4b60bd441eb93c",
            "d886f90579c84cdfb52eec885ad1b2e7",
            "ccb43074b1144ef0990759c6bd6afbd7",
            "9085a040c0df4f79a2396778a27e1405",
            "abe0e6d5c157417a93dcb21e9c97618f",
            "91b3eddb17104547a38cf85de610713f",
            "6c400a653c9a48c5878cdb64bf40f24c",
            "119329b6f262488fba475ea4c0f4a266",
            "db22164f1d034203aaf37dd09688859a",
            "bc615f1388cd4a308354c0ff215454e6",
            "d75de684567d4bb394e8da3debe82dd9"
          ]
        },
        "id": "pSonlOTiKYWa",
        "outputId": "2f52998e-a94a-46b0-f687-41cb5855258d"
      },
      "execution_count": null,
      "outputs": [
        {
          "output_type": "stream",
          "name": "stderr",
          "text": [
            "/usr/local/lib/python3.10/dist-packages/torchvision/models/_utils.py:208: UserWarning: The parameter 'pretrained' is deprecated since 0.13 and may be removed in the future, please use 'weights' instead.\n",
            "  warnings.warn(\n",
            "/usr/local/lib/python3.10/dist-packages/torchvision/models/_utils.py:223: UserWarning: Arguments other than a weight enum or `None` for 'weights' are deprecated since 0.13 and may be removed in the future. The current behavior is equivalent to passing `weights=MobileNet_V2_Weights.IMAGENET1K_V1`. You can also use `weights=MobileNet_V2_Weights.DEFAULT` to get the most up-to-date weights.\n",
            "  warnings.warn(msg)\n",
            "Downloading: \"https://download.pytorch.org/models/mobilenet_v2-b0353104.pth\" to /root/.cache/torch/hub/checkpoints/mobilenet_v2-b0353104.pth\n",
            "100%|██████████| 13.6M/13.6M [00:00<00:00, 117MB/s]\n"
          ]
        },
        {
          "output_type": "stream",
          "name": "stdout",
          "text": [
            "\n",
            "Epoch:  1 / 5\n"
          ]
        },
        {
          "output_type": "display_data",
          "data": {
            "text/plain": [
              "  0%|          | 0/375 [00:00<?, ?it/s]"
            ],
            "application/vnd.jupyter.widget-view+json": {
              "version_major": 2,
              "version_minor": 0,
              "model_id": "889e3e841cbf4a7a86fdcbf26a75419a"
            }
          },
          "metadata": {}
        },
        {
          "output_type": "stream",
          "name": "stdout",
          "text": [
            "train_acc: 0.8955  val_acc: 0.968\n",
            "\n",
            "Epoch:  2 / 5\n"
          ]
        },
        {
          "output_type": "display_data",
          "data": {
            "text/plain": [
              "  0%|          | 0/375 [00:00<?, ?it/s]"
            ],
            "application/vnd.jupyter.widget-view+json": {
              "version_major": 2,
              "version_minor": 0,
              "model_id": "aecff84bd3534a6d88fdc0775b77c374"
            }
          },
          "metadata": {}
        },
        {
          "output_type": "stream",
          "name": "stdout",
          "text": [
            "train_acc: 0.9751  val_acc: 0.9768\n",
            "\n",
            "Epoch:  3 / 5\n"
          ]
        },
        {
          "output_type": "display_data",
          "data": {
            "text/plain": [
              "  0%|          | 0/375 [00:00<?, ?it/s]"
            ],
            "application/vnd.jupyter.widget-view+json": {
              "version_major": 2,
              "version_minor": 0,
              "model_id": "5bc383fd06134a399b08ac4cf0f2470e"
            }
          },
          "metadata": {}
        },
        {
          "output_type": "stream",
          "name": "stdout",
          "text": [
            "train_acc: 0.9829  val_acc: 0.9829\n",
            "\n",
            "Epoch:  4 / 5\n"
          ]
        },
        {
          "output_type": "display_data",
          "data": {
            "text/plain": [
              "  0%|          | 0/375 [00:00<?, ?it/s]"
            ],
            "application/vnd.jupyter.widget-view+json": {
              "version_major": 2,
              "version_minor": 0,
              "model_id": "62c760cd8156453c991f209b85efccb0"
            }
          },
          "metadata": {}
        },
        {
          "output_type": "stream",
          "name": "stdout",
          "text": [
            "train_acc: 0.9873  val_acc: 0.982\n",
            "\n",
            "Epoch:  5 / 5\n"
          ]
        },
        {
          "output_type": "display_data",
          "data": {
            "text/plain": [
              "  0%|          | 0/375 [00:00<?, ?it/s]"
            ],
            "application/vnd.jupyter.widget-view+json": {
              "version_major": 2,
              "version_minor": 0,
              "model_id": "1e5c187f269d4cf1bc4b60bd441eb93c"
            }
          },
          "metadata": {}
        },
        {
          "output_type": "stream",
          "name": "stdout",
          "text": [
            "train_acc: 0.9891  val_acc: 0.9825\n"
          ]
        }
      ]
    },
    {
      "cell_type": "code",
      "source": [
        "!pip install onnx\n",
        "     "
      ],
      "metadata": {
        "colab": {
          "base_uri": "https://localhost:8080/"
        },
        "id": "Fk_sN5DFOxKd",
        "outputId": "8dcee93f-e472-4170-d317-133752370a3c"
      },
      "execution_count": null,
      "outputs": [
        {
          "output_type": "stream",
          "name": "stdout",
          "text": [
            "Looking in indexes: https://pypi.org/simple, https://us-python.pkg.dev/colab-wheels/public/simple/\n",
            "Collecting onnx\n",
            "  Downloading onnx-1.13.1-cp310-cp310-manylinux_2_17_x86_64.manylinux2014_x86_64.whl (13.5 MB)\n",
            "\u001b[2K     \u001b[90m━━━━━━━━━━━━━━━━━━━━━━━━━━━━━━━━━━━━━━━━\u001b[0m \u001b[32m13.5/13.5 MB\u001b[0m \u001b[31m90.3 MB/s\u001b[0m eta \u001b[36m0:00:00\u001b[0m\n",
            "\u001b[?25hRequirement already satisfied: typing-extensions>=3.6.2.1 in /usr/local/lib/python3.10/dist-packages (from onnx) (4.5.0)\n",
            "Requirement already satisfied: protobuf<4,>=3.20.2 in /usr/local/lib/python3.10/dist-packages (from onnx) (3.20.3)\n",
            "Requirement already satisfied: numpy>=1.16.6 in /usr/local/lib/python3.10/dist-packages (from onnx) (1.22.4)\n",
            "Installing collected packages: onnx\n",
            "Successfully installed onnx-1.13.1\n"
          ]
        }
      ]
    }
  ],
  "metadata": {
    "accelerator": "GPU",
    "colab": {
      "provenance": []
    },
    "gpuClass": "standard",
    "kernelspec": {
      "display_name": "Python 3",
      "name": "python3"
    },
    "language_info": {
      "name": "python"
    }
  },
  "nbformat": 4,
  "nbformat_minor": 0
}